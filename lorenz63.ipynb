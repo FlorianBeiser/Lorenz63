{
 "cells": [
  {
   "cell_type": "code",
   "execution_count": null,
   "metadata": {
    "scrolled": true
   },
   "outputs": [],
   "source": [
    "# Load general python modules\n",
    "import importlib\n",
    "import numpy as np\n",
    "import matplotlib.pyplot as plt\n",
    "\n",
    "# Load user modules\n",
    "import lorenz63\n",
    "importlib.reload(lorenz63) # For debugging!"
   ]
  },
  {
   "cell_type": "code",
   "execution_count": null,
   "metadata": {
    "scrolled": true
   },
   "outputs": [],
   "source": [
    "lorenz63_params_model = { \"p\" : 10.0, \"r\" : 28.0, \"b\" : 8.0/3.0 }\n",
    "lorenz63_params_num   = { \"tmax\" : 20.0, \"dt\" : 1e-3 }\n",
    "\n",
    "lorenz63 = lorenz63.lorenz63( **lorenz63_params_model, **lorenz63_params_num )\n",
    "lorenz63.simulate( [1,1,1] )\n",
    "lorenz63.plot3D()\n",
    "lorenz63.plot()"
   ]
  },
  {
   "cell_type": "code",
   "execution_count": null,
   "metadata": {},
   "outputs": [],
   "source": [
    "#Load user modules\n",
    "import ensemble \n",
    "importlib.reload(ensemble)"
   ]
  },
  {
   "cell_type": "code",
   "execution_count": null,
   "metadata": {
    "scrolled": true
   },
   "outputs": [],
   "source": [
    "ensemble = ensemble.ensemble(lorenz63,20)\n",
    "ensemble.simulate()\n",
    "ensemble.mean()\n",
    "ensemble.plot()"
   ]
  }
 ],
 "metadata": {
  "kernelspec": {
   "display_name": "Python [conda env:lorenz63] *",
   "language": "python",
   "name": "conda-env-lorenz63-py"
  },
  "language_info": {
   "codemirror_mode": {
    "name": "ipython",
    "version": 3
   },
   "file_extension": ".py",
   "mimetype": "text/x-python",
   "name": "python",
   "nbconvert_exporter": "python",
   "pygments_lexer": "ipython3",
   "version": "3.7.8"
  }
 },
 "nbformat": 4,
 "nbformat_minor": 4
}
